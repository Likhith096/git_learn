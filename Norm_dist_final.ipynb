{
 "cells": [
  {
   "cell_type": "code",
   "execution_count": null,
   "id": "7ceda8e4",
   "metadata": {},
   "outputs": [],
   "source": [
    "import scipy.stats as stats\n",
    "\n",
    "mean=float(input(\"Enter the mean:\"))\n",
    "std=float(input(\"Enter the standard devaiation:\"))\n",
    "x=float(input(\"Enter the lower limit of normal variate:\"))\n",
    "y=float(input(\"Enter the upper limit of normal variate:\"))\n",
    "\n",
    "cdf_upperlim=stats.norm.cdf(y,loc=mean,scale=std) # We are finding from -infinity to y\n",
    "cdf_lowerlim=stats.norm.cdf(x,loc=mean,scale=std)  # We are finding from -infinity to x\n",
    "prob=cdf_upperlim - cdf_lowerlim \n",
    "z_upper=(y-mean)/std\n",
    "z_lower=(x-mean)/std\n",
    "print(\"z lower limit: \",z_lower)\n",
    "print(\"z upper limit: \",z_upper)\n",
    "print(\"Normal probability value: \",prob)"
   ]
  }
 ],
 "metadata": {
  "kernelspec": {
   "display_name": "Python 3",
   "language": "python",
   "name": "python3"
  },
  "language_info": {
   "codemirror_mode": {
    "name": "ipython",
    "version": 3
   },
   "file_extension": ".py",
   "mimetype": "text/x-python",
   "name": "python",
   "nbconvert_exporter": "python",
   "pygments_lexer": "ipython3",
   "version": "3.8.8"
  }
 },
 "nbformat": 4,
 "nbformat_minor": 5
}
