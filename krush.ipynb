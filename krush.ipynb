{
 "cells": [
  {
   "cell_type": "code",
   "execution_count": 3,
   "id": "eac74bb6",
   "metadata": {},
   "outputs": [
    {
     "name": "stdout",
     "output_type": "stream",
     "text": [
      "[3, 6, 3]\n",
      "[5, 6, 3]\n",
      "[2, 4, 5]\n",
      "[1, 2, 6]\n",
      "[4, 3, 7]\n"
     ]
    }
   ],
   "source": [
    "def findu(graphh,noode):\n",
    "    x=(graphh[noode])\n",
    "    if x<0:\n",
    "        return noode\n",
    "    else:\n",
    "        temp = findu(graphh,graphh[noode])\n",
    "        graphh[noode] = temp\n",
    "        return temp\n",
    "\n",
    "def unionu(a,b,c,graphh,answerr):\n",
    "    ta = a\n",
    "    tb = b\n",
    "    tc = c\n",
    "    a = findu(graphh,a)\n",
    "    b = findu(graphh,b)\n",
    "    if a==b:\n",
    "        pass\n",
    "    else:\n",
    "        answerr.append([ta,tb,tc])\n",
    "        if graphh[a]<graphh[b]:\n",
    "            graphh[a] = graphh[a] + graphh[b]\n",
    "            graphh[b] = a\n",
    "        else:\n",
    "            graphh[b] = graphh[a] + graphh[b]\n",
    "            graphh[a] = b\n",
    "#inputing-- two edge numbers and its weight\n",
    "ipt = [[1,2,6],[1,4,6],[1,3,8],[2,4,5],[2,5,10],[4,3,7],[3,5,5],[3,6,3],[5,6,3]]\n",
    "n = 9\n",
    "answerr = []\n",
    "iptt = sorted(ipt,key = lambda iptt:iptt[2])\n",
    "# print(iptt)\n",
    "graphh = []\n",
    "for i in range(0,9):\n",
    "    graphh.append(-1)#initially it is initialsed to zero\n",
    "for u,v,d in iptt:\n",
    "    unionu(u,v,d,graphh,answerr)\n",
    "for item in answerr:\n",
    "    print(item)\n"
   ]
  }
 ],
 "metadata": {
  "kernelspec": {
   "display_name": "Python 3",
   "language": "python",
   "name": "python3"
  },
  "language_info": {
   "codemirror_mode": {
    "name": "ipython",
    "version": 3
   },
   "file_extension": ".py",
   "mimetype": "text/x-python",
   "name": "python",
   "nbconvert_exporter": "python",
   "pygments_lexer": "ipython3",
   "version": "3.8.8"
  }
 },
 "nbformat": 4,
 "nbformat_minor": 5
}
