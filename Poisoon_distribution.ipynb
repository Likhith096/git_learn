{
 "cells": [
  {
   "cell_type": "code",
   "execution_count": 4,
   "id": "ef566756",
   "metadata": {},
   "outputs": [
    {
     "name": "stdout",
     "output_type": "stream",
     "text": [
      "Enter the mean: 5\n",
      "Enter the value of poisson variate: 4\n",
      "The Poisson's distribution is:  0.1754673697678507\n"
     ]
    }
   ],
   "source": [
    "import math\n",
    "def pdf(mean,x):\n",
    "    return (mean**x * math.exp(-mean)) / math.factorial(x)\n",
    "\n",
    "mean = float(input(\"Enter the mean: \"))\n",
    "x = int(input(\"Enter the value of poisson variate: \"))\n",
    "result = pdf(mean,x)\n",
    "print(\"The Poisson's distribution is: \", result)"
   ]
  },
  {
   "cell_type": "code",
   "execution_count": null,
   "id": "2a9254f3",
   "metadata": {},
   "outputs": [],
   "source": []
  }
 ],
 "metadata": {
  "kernelspec": {
   "display_name": "Python 3",
   "language": "python",
   "name": "python3"
  },
  "language_info": {
   "codemirror_mode": {
    "name": "ipython",
    "version": 3
   },
   "file_extension": ".py",
   "mimetype": "text/x-python",
   "name": "python",
   "nbconvert_exporter": "python",
   "pygments_lexer": "ipython3",
   "version": "3.8.8"
  }
 },
 "nbformat": 4,
 "nbformat_minor": 5
}
