{
 "cells": [
  {
   "cell_type": "code",
   "execution_count": 1,
   "id": "61fba56d",
   "metadata": {},
   "outputs": [
    {
     "name": "stderr",
     "output_type": "stream",
     "text": [
      "/Users/likhithgs/Desktop/PYTHON/anaconda3/lib/python3.8/site-packages/scipy/__init__.py:138: UserWarning: A NumPy version >=1.16.5 and <1.23.0 is required for this version of SciPy (detected version 1.23.5)\n",
      "  warnings.warn(f\"A NumPy version >={np_minversion} and <{np_maxversion} is required for this version of \"\n"
     ]
    },
    {
     "name": "stdout",
     "output_type": "stream",
     "text": [
      "Enter the mean:3\n",
      "Enter the lower limit (Enter 0 if -infinity):3\n",
      "Enter the upper limit (Enter 0 if infinity):5\n",
      "The exponential probability value is: (0.17900383833388048, 1.9873418281455333e-15)\n"
     ]
    }
   ],
   "source": [
    "import numpy as np \n",
    "from scipy.integrate import quad\n",
    "\n",
    "mean= int(input(\"Enter the mean:\"))\n",
    "\n",
    "lower_lim=int(input(\"Enter the lower limit (Enter 0 if -infinity):\"))\n",
    "upper_lim=int(input(\"Enter the upper limit (Enter 0 if infinity):\"))\n",
    "\n",
    "def f(x,mean):\n",
    "    return (1/mean)* np.exp(-(1/mean)*x)\n",
    "    \n",
    "\n",
    "if (lower_lim==0 and upper_lim==0):\n",
    "    print(\"The exponential probability value is 1.\")\n",
    "\n",
    "elif lower_lim<=0: # lower limit -infinity\n",
    "    expo_pdf=quad(f,0,upper_lim, args=(mean))  # For any exponential distribution, negative number to y is same as 0 to y\n",
    "    print(\"The exponential probability value is:\", expo_pdf)\n",
    "\n",
    "else:\n",
    "    expo_pdf=quad(f,lower_lim, upper_lim, args=(mean)) # from lower to upper limit\n",
    "    print(\"The exponential probability value is:\", expo_pdf)"
   ]
  }
 ],
 "metadata": {
  "kernelspec": {
   "display_name": "Python 3",
   "language": "python",
   "name": "python3"
  },
  "language_info": {
   "codemirror_mode": {
    "name": "ipython",
    "version": 3
   },
   "file_extension": ".py",
   "mimetype": "text/x-python",
   "name": "python",
   "nbconvert_exporter": "python",
   "pygments_lexer": "ipython3",
   "version": "3.8.8"
  }
 },
 "nbformat": 4,
 "nbformat_minor": 5
}
