{
 "cells": [
  {
   "cell_type": "code",
   "execution_count": 9,
   "id": "c715ae69",
   "metadata": {},
   "outputs": [
    {
     "name": "stdout",
     "output_type": "stream",
     "text": [
      "Shortest Path:  ['B', 'C', 'E']\n",
      "Shortest Distance:  5\n"
     ]
    }
   ],
   "source": [
    "def dijkstra(graph, start, end):\n",
    "    # Create a dictionary to store the distance from the start node to every other node\n",
    "    distances = {node: float(\"inf\") for node in graph}\n",
    "    distances[start] = 0\n",
    "\n",
    "    # Create a dictionary to store the previous node for each node\n",
    "    previous = {}\n",
    "\n",
    "    # Create a set to keep track of unvisited nodes\n",
    "    unvisited = set(graph)\n",
    "\n",
    "    # Create a set to keep track of the current node\n",
    "    current = start\n",
    "\n",
    "    while current != end:\n",
    "        for neighbor in graph[current]:\n",
    "            new_distance = distances[current] + graph[current][neighbor]\n",
    "            if new_distance < distances[neighbor]:\n",
    "                distances[neighbor] = new_distance\n",
    "                previous[neighbor] = current\n",
    "\n",
    "        unvisited.remove(current)\n",
    "        if not unvisited:\n",
    "            return None, None\n",
    "        candidates = {node: distances[node] for node in unvisited}\n",
    "        current = min(candidates, key=candidates.get)\n",
    "\n",
    "    # Create a list to store the shortest path\n",
    "    path = []\n",
    "    while current != start:\n",
    "        path.append(current)\n",
    "        current = previous[current]\n",
    "    path.append(start)\n",
    "    path.reverse()\n",
    "\n",
    "    return path, distances[end]\n",
    "\n",
    "# Example usage:\n",
    "graph = {\n",
    "    \"A\": {\"B\": 7, \"C\": 3, \"D\":2, \"E\":2},\n",
    "    \"B\": {\"A\": 7, \"C\": 1},\n",
    "    \"C\": {\"A\": 3, \"B\": 1, \"E\": 4,\"F\":3},\n",
    "    \"D\": {\"A\": 2, \"E\": 1,\"G\":2,\"F\":10},\n",
    "    \"E\": {\"A\":2,\"C\":4,\"D\":1,\"F\":4,\"G\":2},\n",
    "    \"F\": {\"C\":3,\"D\":10,\"E\":4,\"G\":7},\n",
    "    \"G\": {\"D\":2,\"E\":2,\"F\":7}\n",
    "}\n",
    "\n",
    "shortest_path, shortest_distance = dijkstra(graph, \"B\", \"E\")\n",
    "\n",
    "print(\"Shortest Path: \", shortest_path)\n",
    "print(\"Shortest Distance: \", shortest_distance)"
   ]
  },
  {
   "cell_type": "code",
   "execution_count": null,
   "id": "93f20109",
   "metadata": {},
   "outputs": [],
   "source": []
  },
  {
   "cell_type": "code",
   "execution_count": null,
   "id": "f953a463",
   "metadata": {},
   "outputs": [],
   "source": []
  }
 ],
 "metadata": {
  "kernelspec": {
   "display_name": "Python 3",
   "language": "python",
   "name": "python3"
  },
  "language_info": {
   "codemirror_mode": {
    "name": "ipython",
    "version": 3
   },
   "file_extension": ".py",
   "mimetype": "text/x-python",
   "name": "python",
   "nbconvert_exporter": "python",
   "pygments_lexer": "ipython3",
   "version": "3.8.8"
  }
 },
 "nbformat": 4,
 "nbformat_minor": 5
}
